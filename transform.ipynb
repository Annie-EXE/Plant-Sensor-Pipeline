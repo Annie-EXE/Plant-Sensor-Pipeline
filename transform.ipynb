{
 "cells": [
  {
   "cell_type": "markdown",
   "metadata": {},
   "source": [
    "# Visualization of Data Transformation"
   ]
  },
  {
   "cell_type": "markdown",
   "metadata": {},
   "source": [
    "Import libraries"
   ]
  },
  {
   "cell_type": "code",
   "execution_count": 1,
   "metadata": {},
   "outputs": [],
   "source": [
    "import json\n",
    "import pandas as pd\n",
    "\n",
    "from transform import load_data, flatten_data, build_plant_dataframe"
   ]
  },
  {
   "cell_type": "markdown",
   "metadata": {},
   "source": [
    "Load DataFrame"
   ]
  },
  {
   "cell_type": "code",
   "execution_count": 2,
   "metadata": {},
   "outputs": [
    {
     "data": {
      "text/html": [
       "<div>\n",
       "<style scoped>\n",
       "    .dataframe tbody tr th:only-of-type {\n",
       "        vertical-align: middle;\n",
       "    }\n",
       "\n",
       "    .dataframe tbody tr th {\n",
       "        vertical-align: top;\n",
       "    }\n",
       "\n",
       "    .dataframe thead th {\n",
       "        text-align: right;\n",
       "    }\n",
       "</style>\n",
       "<table border=\"1\" class=\"dataframe\">\n",
       "  <thead>\n",
       "    <tr style=\"text-align: right;\">\n",
       "      <th></th>\n",
       "      <th>botanist_name</th>\n",
       "      <th>botanist_email</th>\n",
       "      <th>botanist_phone_number</th>\n",
       "      <th>plant_id</th>\n",
       "      <th>scientific_name</th>\n",
       "      <th>plant_name</th>\n",
       "      <th>plant_cycle</th>\n",
       "      <th>last_watered</th>\n",
       "      <th>plant_origin</th>\n",
       "      <th>recording_taken</th>\n",
       "      <th>soil_moisture</th>\n",
       "      <th>conditions</th>\n",
       "      <th>temperature</th>\n",
       "      <th>plant_latitude</th>\n",
       "      <th>plant_longitude</th>\n",
       "      <th>plant_location</th>\n",
       "    </tr>\n",
       "  </thead>\n",
       "  <tbody>\n",
       "    <tr>\n",
       "      <th>0</th>\n",
       "      <td>eliza andrews</td>\n",
       "      <td>eliza.andrews@lnhm.co.uk</td>\n",
       "      <td>+1-271-181-9601</td>\n",
       "      <td>8</td>\n",
       "      <td>[Heliconia schiedeana 'Fire and Ice']</td>\n",
       "      <td>bird of paradise</td>\n",
       "      <td>herbaceous perennial</td>\n",
       "      <td>2023-08-28 13:23:01</td>\n",
       "      <td>[5.27247, -3.59625, Bonoua, CI, Africa/Abidjan]</td>\n",
       "      <td>2023-08-29 11:12:20</td>\n",
       "      <td>21.909098</td>\n",
       "      <td>[Full sun, part shade]</td>\n",
       "      <td>11.496874</td>\n",
       "      <td>5.27247</td>\n",
       "      <td>-3.59625</td>\n",
       "      <td>bonoua, ci, africa/abidjan</td>\n",
       "    </tr>\n",
       "  </tbody>\n",
       "</table>\n",
       "</div>"
      ],
      "text/plain": [
       "   botanist_name            botanist_email botanist_phone_number  plant_id  \\\n",
       "0  eliza andrews  eliza.andrews@lnhm.co.uk       +1-271-181-9601         8   \n",
       "\n",
       "                         scientific_name        plant_name  \\\n",
       "0  [Heliconia schiedeana 'Fire and Ice']  bird of paradise   \n",
       "\n",
       "            plant_cycle        last_watered  \\\n",
       "0  herbaceous perennial 2023-08-28 13:23:01   \n",
       "\n",
       "                                      plant_origin     recording_taken  \\\n",
       "0  [5.27247, -3.59625, Bonoua, CI, Africa/Abidjan] 2023-08-29 11:12:20   \n",
       "\n",
       "   soil_moisture              conditions  temperature  plant_latitude  \\\n",
       "0      21.909098  [Full sun, part shade]    11.496874         5.27247   \n",
       "\n",
       "   plant_longitude              plant_location  \n",
       "0         -3.59625  bonoua, ci, africa/abidjan  "
      ]
     },
     "execution_count": 2,
     "metadata": {},
     "output_type": "execute_result"
    }
   ],
   "source": [
    "json_file_path = 'mock_transform_data.json'\n",
    "\n",
    "loaded_data_from_file = load_data(json_file_path)\n",
    "\n",
    "flatted_plant_data = flatten_data(loaded_data_from_file)\n",
    "\n",
    "plant_df = build_plant_dataframe(flatted_plant_data)\n",
    "\n",
    "plant_df"
   ]
  },
  {
   "cell_type": "code",
   "execution_count": 3,
   "metadata": {},
   "outputs": [
    {
     "data": {
      "text/plain": [
       "botanist_name                    object\n",
       "botanist_email                   object\n",
       "botanist_phone_number            object\n",
       "plant_id                          int64\n",
       "scientific_name                  object\n",
       "plant_name                       object\n",
       "plant_cycle                      object\n",
       "last_watered             datetime64[ns]\n",
       "plant_origin                     object\n",
       "recording_taken          datetime64[ns]\n",
       "soil_moisture                   float64\n",
       "conditions                       object\n",
       "temperature                     float64\n",
       "plant_latitude                  float64\n",
       "plant_longitude                 float64\n",
       "plant_location                   object\n",
       "dtype: object"
      ]
     },
     "execution_count": 3,
     "metadata": {},
     "output_type": "execute_result"
    }
   ],
   "source": [
    "plant_df.dtypes"
   ]
  }
 ],
 "metadata": {
  "kernelspec": {
   "display_name": "venv",
   "language": "python",
   "name": "python3"
  },
  "language_info": {
   "codemirror_mode": {
    "name": "ipython",
    "version": 3
   },
   "file_extension": ".py",
   "mimetype": "text/x-python",
   "name": "python",
   "nbconvert_exporter": "python",
   "pygments_lexer": "ipython3",
   "version": "3.11.3"
  },
  "orig_nbformat": 4
 },
 "nbformat": 4,
 "nbformat_minor": 2
}
